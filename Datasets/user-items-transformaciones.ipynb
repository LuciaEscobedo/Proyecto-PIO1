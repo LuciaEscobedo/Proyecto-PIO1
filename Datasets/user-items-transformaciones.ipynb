{
 "cells": [
  {
   "cell_type": "code",
   "execution_count": 1,
   "metadata": {},
   "outputs": [],
   "source": [
    "import pandas as pd \n",
    "import json"
   ]
  },
  {
   "cell_type": "code",
   "execution_count": 2,
   "metadata": {},
   "outputs": [
    {
     "name": "stdout",
     "output_type": "stream",
     "text": [
      "                       user_id  items_count           steam_id  \\\n",
      "0            76561197970982479          277  76561197970982479   \n",
      "1                      js41637          888  76561198035864385   \n",
      "2                    evcentric          137  76561198007712555   \n",
      "3                   Riot-Punch          328  76561197963445855   \n",
      "4                        doctr          541  76561198002099482   \n",
      "...                        ...          ...                ...   \n",
      "88305        76561198323066619           22  76561198323066619   \n",
      "88306        76561198326700687          177  76561198326700687   \n",
      "88307  XxLaughingJackClown77xX            0  76561198328759259   \n",
      "88308        76561198329548331            7  76561198329548331   \n",
      "88309        edward_tremethick            0  76561198331598578   \n",
      "\n",
      "                                                user_url  \\\n",
      "0      http://steamcommunity.com/profiles/76561197970...   \n",
      "1                   http://steamcommunity.com/id/js41637   \n",
      "2                 http://steamcommunity.com/id/evcentric   \n",
      "3                http://steamcommunity.com/id/Riot-Punch   \n",
      "4                     http://steamcommunity.com/id/doctr   \n",
      "...                                                  ...   \n",
      "88305  http://steamcommunity.com/profiles/76561198323...   \n",
      "88306  http://steamcommunity.com/profiles/76561198326...   \n",
      "88307  http://steamcommunity.com/id/XxLaughingJackClo...   \n",
      "88308  http://steamcommunity.com/profiles/76561198329...   \n",
      "88309     http://steamcommunity.com/id/edward_tremethick   \n",
      "\n",
      "                                                   items  \n",
      "0      [{'item_id': '10', 'item_name': 'Counter-Strik...  \n",
      "1      [{'item_id': '10', 'item_name': 'Counter-Strik...  \n",
      "2      [{'item_id': '1200', 'item_name': 'Red Orchest...  \n",
      "3      [{'item_id': '10', 'item_name': 'Counter-Strik...  \n",
      "4      [{'item_id': '300', 'item_name': 'Day of Defea...  \n",
      "...                                                  ...  \n",
      "88305  [{'item_id': '413850', 'item_name': 'CS:GO Pla...  \n",
      "88306  [{'item_id': '11020', 'item_name': 'TrackMania...  \n",
      "88307                                                 []  \n",
      "88308  [{'item_id': '304930', 'item_name': 'Unturned'...  \n",
      "88309                                                 []  \n",
      "\n",
      "[88310 rows x 5 columns]\n"
     ]
    }
   ],
   "source": [
    "import pandas as pd\n",
    "from ast import literal_eval\n",
    "\n",
    "# Lista para almacenar las líneas convertidas en diccionarios\n",
    "data_list = []\n",
    "\n",
    "# Ruta de tu archivo JSON\n",
    "json_file_path = 'australian_users_items.json'\n",
    "\n",
    "# Leer el archivo línea por línea y convertir cada línea en un diccionario\n",
    "with open(json_file_path, 'r' , encoding='utf-8' ) as file:\n",
    "    for line in file:\n",
    "        # Convertir la línea en un diccionario usando literal_eval\n",
    "        data_dict = literal_eval(line)\n",
    "        # Añadir el diccionario a la lista\n",
    "        data_list.append(data_dict)\n",
    "\n",
    "# Convertir la lista de diccionarios en un dataframe\n",
    "df = pd.DataFrame(data_list)\n",
    "\n",
    "# Mostrar el dataframe resultante\n",
    "print(df)"
   ]
  },
  {
   "cell_type": "code",
   "execution_count": 3,
   "metadata": {},
   "outputs": [
    {
     "data": {
      "text/plain": [
       "Index(['user_id', 'items_count', 'steam_id', 'user_url', 'items'], dtype='object')"
      ]
     },
     "execution_count": 3,
     "metadata": {},
     "output_type": "execute_result"
    }
   ],
   "source": [
    "df.columns"
   ]
  },
  {
   "cell_type": "code",
   "execution_count": 4,
   "metadata": {},
   "outputs": [
    {
     "ename": "KeyboardInterrupt",
     "evalue": "",
     "output_type": "error",
     "traceback": [
      "\u001b[1;31m---------------------------------------------------------------------------\u001b[0m",
      "\u001b[1;31mKeyboardInterrupt\u001b[0m                         Traceback (most recent call last)",
      "\u001b[1;32mC:\\Users\\Public\\Documents\\Wondershare\\CreatorTemp\\ipykernel_11760\\1608630362.py\u001b[0m in \u001b[0;36m?\u001b[1;34m()\u001b[0m\n\u001b[0;32m      3\u001b[0m \u001b[1;31m# Crear un dataframe vacío para almacenar las columnas\u001b[0m\u001b[1;33m\u001b[0m\u001b[1;33m\u001b[0m\u001b[0m\n\u001b[0;32m      4\u001b[0m \u001b[0mdf_items_columns\u001b[0m \u001b[1;33m=\u001b[0m \u001b[0mpd\u001b[0m\u001b[1;33m.\u001b[0m\u001b[0mDataFrame\u001b[0m\u001b[1;33m(\u001b[0m\u001b[1;33m)\u001b[0m\u001b[1;33m\u001b[0m\u001b[1;33m\u001b[0m\u001b[0m\n\u001b[0;32m      5\u001b[0m \u001b[1;33m\u001b[0m\u001b[0m\n\u001b[0;32m      6\u001b[0m \u001b[1;31m# Iterar sobre cada diccionario en la lista 'items'\u001b[0m\u001b[1;33m\u001b[0m\u001b[1;33m\u001b[0m\u001b[0m\n\u001b[1;32m----> 7\u001b[1;33m \u001b[1;32mfor\u001b[0m \u001b[0mindex\u001b[0m\u001b[1;33m,\u001b[0m \u001b[0mrow\u001b[0m \u001b[1;32min\u001b[0m \u001b[0mdf\u001b[0m\u001b[1;33m.\u001b[0m\u001b[0miterrows\u001b[0m\u001b[1;33m(\u001b[0m\u001b[1;33m)\u001b[0m\u001b[1;33m:\u001b[0m\u001b[1;33m\u001b[0m\u001b[1;33m\u001b[0m\u001b[0m\n\u001b[0m\u001b[0;32m      8\u001b[0m     \u001b[0mitems_list\u001b[0m \u001b[1;33m=\u001b[0m \u001b[1;33m[\u001b[0m\u001b[1;33m]\u001b[0m\u001b[1;33m\u001b[0m\u001b[1;33m\u001b[0m\u001b[0m\n\u001b[0;32m      9\u001b[0m     \u001b[1;32mfor\u001b[0m \u001b[0mitems_dict\u001b[0m \u001b[1;32min\u001b[0m \u001b[0mrow\u001b[0m\u001b[1;33m[\u001b[0m\u001b[1;34m'items'\u001b[0m\u001b[1;33m]\u001b[0m\u001b[1;33m:\u001b[0m\u001b[1;33m\u001b[0m\u001b[1;33m\u001b[0m\u001b[0m\n\u001b[0;32m     10\u001b[0m         \u001b[0mitems_list\u001b[0m\u001b[1;33m.\u001b[0m\u001b[0mappend\u001b[0m\u001b[1;33m(\u001b[0m\u001b[0mpd\u001b[0m\u001b[1;33m.\u001b[0m\u001b[0mSeries\u001b[0m\u001b[1;33m(\u001b[0m\u001b[0mitems_dict\u001b[0m\u001b[1;33m)\u001b[0m\u001b[1;33m)\u001b[0m\u001b[1;33m\u001b[0m\u001b[1;33m\u001b[0m\u001b[0m\n",
      "\u001b[1;32m~\\AppData\\Local\\Packages\\PythonSoftwareFoundation.Python.3.10_qbz5n2kfra8p0\\LocalCache\\local-packages\\Python310\\site-packages\\pandas\\core\\frame.py\u001b[0m in \u001b[0;36m?\u001b[1;34m(self)\u001b[0m\n\u001b[0;32m   1449\u001b[0m         \u001b[1;32mfor\u001b[0m \u001b[0mk\u001b[0m\u001b[1;33m,\u001b[0m \u001b[0mv\u001b[0m \u001b[1;32min\u001b[0m \u001b[0mzip\u001b[0m\u001b[1;33m(\u001b[0m\u001b[0mself\u001b[0m\u001b[1;33m.\u001b[0m\u001b[0mindex\u001b[0m\u001b[1;33m,\u001b[0m \u001b[0mself\u001b[0m\u001b[1;33m.\u001b[0m\u001b[0mvalues\u001b[0m\u001b[1;33m)\u001b[0m\u001b[1;33m:\u001b[0m\u001b[1;33m\u001b[0m\u001b[1;33m\u001b[0m\u001b[0m\n\u001b[0;32m   1450\u001b[0m             \u001b[0ms\u001b[0m \u001b[1;33m=\u001b[0m \u001b[0mklass\u001b[0m\u001b[1;33m(\u001b[0m\u001b[0mv\u001b[0m\u001b[1;33m,\u001b[0m \u001b[0mindex\u001b[0m\u001b[1;33m=\u001b[0m\u001b[0mcolumns\u001b[0m\u001b[1;33m,\u001b[0m \u001b[0mname\u001b[0m\u001b[1;33m=\u001b[0m\u001b[0mk\u001b[0m\u001b[1;33m)\u001b[0m\u001b[1;33m.\u001b[0m\u001b[0m__finalize__\u001b[0m\u001b[1;33m(\u001b[0m\u001b[0mself\u001b[0m\u001b[1;33m)\u001b[0m\u001b[1;33m\u001b[0m\u001b[1;33m\u001b[0m\u001b[0m\n\u001b[0;32m   1451\u001b[0m             \u001b[1;32mif\u001b[0m \u001b[0musing_cow\u001b[0m \u001b[1;32mand\u001b[0m \u001b[0mself\u001b[0m\u001b[1;33m.\u001b[0m\u001b[0m_mgr\u001b[0m\u001b[1;33m.\u001b[0m\u001b[0mis_single_block\u001b[0m\u001b[1;33m:\u001b[0m\u001b[1;33m\u001b[0m\u001b[1;33m\u001b[0m\u001b[0m\n\u001b[0;32m   1452\u001b[0m                 \u001b[0ms\u001b[0m\u001b[1;33m.\u001b[0m\u001b[0m_mgr\u001b[0m\u001b[1;33m.\u001b[0m\u001b[0madd_references\u001b[0m\u001b[1;33m(\u001b[0m\u001b[0mself\u001b[0m\u001b[1;33m.\u001b[0m\u001b[0m_mgr\u001b[0m\u001b[1;33m)\u001b[0m  \u001b[1;31m# type: ignore[arg-type]\u001b[0m\u001b[1;33m\u001b[0m\u001b[1;33m\u001b[0m\u001b[0m\n\u001b[1;32m-> 1453\u001b[1;33m             \u001b[1;32myield\u001b[0m \u001b[0mk\u001b[0m\u001b[1;33m,\u001b[0m \u001b[0ms\u001b[0m\u001b[1;33m\u001b[0m\u001b[1;33m\u001b[0m\u001b[0m\n\u001b[0m",
      "\u001b[1;31mKeyboardInterrupt\u001b[0m: "
     ]
    }
   ],
   "source": [
    "import pandas as pd\n",
    "\n",
    "# Crear un dataframe vacío para almacenar las columnas\n",
    "df_items_columns = pd.DataFrame()\n",
    "\n",
    "# Iterar sobre cada diccionario en la lista 'items'\n",
    "for index, row in df.iterrows():\n",
    "    items_list = []\n",
    "    for items_dict in row['items']:\n",
    "        items_list.append(pd.Series(items_dict))\n",
    "    temp_df = pd.DataFrame(items_list)\n",
    "    df_items_columns = pd.concat([df_items_columns, temp_df], ignore_index=True)\n",
    "\n",
    "# Mostrar el dataframe resultante\n",
    "print(df_items_columns)\n"
   ]
  },
  {
   "cell_type": "code",
   "execution_count": 9,
   "metadata": {},
   "outputs": [
    {
     "data": {
      "text/plain": [
       "RangeIndex(start=0, stop=0, step=1)"
      ]
     },
     "execution_count": 9,
     "metadata": {},
     "output_type": "execute_result"
    }
   ],
   "source": [
    "df_items_columns.columns"
   ]
  }
 ],
 "metadata": {
  "kernelspec": {
   "display_name": "Python 3",
   "language": "python",
   "name": "python3"
  },
  "language_info": {
   "codemirror_mode": {
    "name": "ipython",
    "version": 3
   },
   "file_extension": ".py",
   "mimetype": "text/x-python",
   "name": "python",
   "nbconvert_exporter": "python",
   "pygments_lexer": "ipython3",
   "version": "3.10.11"
  }
 },
 "nbformat": 4,
 "nbformat_minor": 2
}
