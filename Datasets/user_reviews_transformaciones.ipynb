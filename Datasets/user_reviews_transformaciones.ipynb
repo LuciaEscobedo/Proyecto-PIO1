{
 "cells": [
  {
   "cell_type": "code",
   "execution_count": 101,
   "metadata": {},
   "outputs": [
    {
     "name": "stdout",
     "output_type": "stream",
     "text": [
      "                 user_id                                           user_url  \\\n",
      "0      76561197970982479  http://steamcommunity.com/profiles/76561197970...   \n",
      "1                js41637               http://steamcommunity.com/id/js41637   \n",
      "2              evcentric             http://steamcommunity.com/id/evcentric   \n",
      "3                  doctr                 http://steamcommunity.com/id/doctr   \n",
      "4              maplemage             http://steamcommunity.com/id/maplemage   \n",
      "...                  ...                                                ...   \n",
      "25794  76561198306599751  http://steamcommunity.com/profiles/76561198306...   \n",
      "25795           Ghoustik              http://steamcommunity.com/id/Ghoustik   \n",
      "25796  76561198310819422  http://steamcommunity.com/profiles/76561198310...   \n",
      "25797  76561198312638244  http://steamcommunity.com/profiles/76561198312...   \n",
      "25798        LydiaMorley           http://steamcommunity.com/id/LydiaMorley   \n",
      "\n",
      "                                                 reviews  \n",
      "0      [{'funny': '', 'posted': 'Posted November 5, 2...  \n",
      "1      [{'funny': '', 'posted': 'Posted June 24, 2014...  \n",
      "2      [{'funny': '', 'posted': 'Posted February 3.',...  \n",
      "3      [{'funny': '', 'posted': 'Posted October 14, 2...  \n",
      "4      [{'funny': '3 people found this review funny',...  \n",
      "...                                                  ...  \n",
      "25794  [{'funny': '', 'posted': 'Posted May 31.', 'la...  \n",
      "25795  [{'funny': '', 'posted': 'Posted June 17.', 'l...  \n",
      "25796  [{'funny': '1 person found this review funny',...  \n",
      "25797  [{'funny': '', 'posted': 'Posted July 21.', 'l...  \n",
      "25798  [{'funny': '1 person found this review funny',...  \n",
      "\n",
      "[25799 rows x 3 columns]\n"
     ]
    }
   ],
   "source": [
    "import pandas as pd \n",
    "import json\n",
    "from ast import literal_eval\n",
    "\n",
    "# Lista para almacenar las líneas convertidas en diccionarios\n",
    "data_list = []\n",
    "\n",
    "# Ruta de tu archivo JSON\n",
    "json_file_path = 'australian_user_reviews.json'\n",
    "\n",
    "# Leer el archivo línea por línea y convertir cada línea en un diccionario\n",
    "with open(json_file_path, 'r' , encoding='utf-8' ) as file:\n",
    "    for line in file:\n",
    "        # Convertir la línea en un diccionario usando literal_eval\n",
    "        data_dict = literal_eval(line)\n",
    "        # Añadir el diccionario a la lista\n",
    "        data_list.append(data_dict)\n",
    "\n",
    "# Convertir la lista de diccionarios en un dataframe\n",
    "df = pd.DataFrame(data_list)\n",
    "\n",
    "# Mostrar el dataframe resultante\n",
    "print(df)\n"
   ]
  },
  {
   "cell_type": "code",
   "execution_count": 102,
   "metadata": {},
   "outputs": [
    {
     "data": {
      "text/plain": [
       "Index(['user_id', 'user_url', 'reviews'], dtype='object')"
      ]
     },
     "execution_count": 102,
     "metadata": {},
     "output_type": "execute_result"
    }
   ],
   "source": [
    "df.columns"
   ]
  },
  {
   "cell_type": "code",
   "execution_count": 103,
   "metadata": {},
   "outputs": [
    {
     "name": "stdout",
     "output_type": "stream",
     "text": [
      "                                  funny                     posted  \\\n",
      "0                                         Posted November 5, 2011.   \n",
      "1                                            Posted July 15, 2011.   \n",
      "2                                           Posted April 21, 2011.   \n",
      "3                                            Posted June 24, 2014.   \n",
      "4                                        Posted September 8, 2013.   \n",
      "...                                 ...                        ...   \n",
      "59300                                              Posted July 10.   \n",
      "59301                                               Posted July 8.   \n",
      "59302  1 person found this review funny             Posted July 3.   \n",
      "59303                                              Posted July 20.   \n",
      "59304                                               Posted July 2.   \n",
      "\n",
      "      last_edited item_id                                          helpful  \\\n",
      "0                    1250                                   No ratings yet   \n",
      "1                   22200                                   No ratings yet   \n",
      "2                   43110                                   No ratings yet   \n",
      "3                  251610  15 of 20 people (75%) found this review helpful   \n",
      "4                  227300     0 of 1 people (0%) found this review helpful   \n",
      "...           ...     ...                                              ...   \n",
      "59300                  70                                   No ratings yet   \n",
      "59301              362890                                   No ratings yet   \n",
      "59302              273110    1 of 2 people (50%) found this review helpful   \n",
      "59303                 730                                   No ratings yet   \n",
      "59304                 440                                   No ratings yet   \n",
      "\n",
      "       recommend                                             review  \n",
      "0           True  Simple yet with great replayability. In my opi...  \n",
      "1           True               It's unique and worth a playthrough.  \n",
      "2           True  Great atmosphere. The gunplay can be a bit chu...  \n",
      "3           True  I know what you think when you see this title ...  \n",
      "4           True  For a simple (it's actually not all that simpl...  \n",
      "...          ...                                                ...  \n",
      "59300       True  a must have classic from steam definitely wort...  \n",
      "59301       True  this game is a perfect remake of the original ...  \n",
      "59302       True  had so much fun plaing this and collecting res...  \n",
      "59303       True                                                 :D  \n",
      "59304       True                                     so much fun :D  \n",
      "\n",
      "[59305 rows x 7 columns]\n"
     ]
    }
   ],
   "source": [
    "# Crear un dataframe vacío para almacenar las columnas\n",
    "df_reviews_columns = pd.DataFrame()\n",
    "\n",
    "# Iterar sobre cada diccionario en la lista 'reviews'\n",
    "for index, row in df.iterrows():\n",
    "    reviews_list = []\n",
    "    for review_dict in row['reviews']:\n",
    "        reviews_list.append(pd.Series(review_dict))\n",
    "    temp_df = pd.DataFrame(reviews_list)\n",
    "    df_reviews_columns = pd.concat([df_reviews_columns, temp_df], ignore_index=True)\n",
    "\n",
    "# Mostrar el dataframe resultante\n",
    "print(df_reviews_columns)"
   ]
  },
  {
   "cell_type": "code",
   "execution_count": 104,
   "metadata": {},
   "outputs": [
    {
     "data": {
      "text/plain": [
       "Index(['funny', 'posted', 'last_edited', 'item_id', 'helpful', 'recommend',\n",
       "       'review'],\n",
       "      dtype='object')"
      ]
     },
     "execution_count": 104,
     "metadata": {},
     "output_type": "execute_result"
    }
   ],
   "source": [
    "df_reviews_columns.columns"
   ]
  },
  {
   "cell_type": "code",
   "execution_count": null,
   "metadata": {},
   "outputs": [],
   "source": [
    "# Guardar el DataFrame en un archivo CSV\n",
    "df_reviews_columns.to_csv('reviews.csv', index=False)"
   ]
  },
  {
   "cell_type": "code",
   "execution_count": 105,
   "metadata": {},
   "outputs": [
    {
     "name": "stdout",
     "output_type": "stream",
     "text": [
      "                                  funny                     posted  \\\n",
      "0                                         Posted November 5, 2011.   \n",
      "1                                            Posted July 15, 2011.   \n",
      "2                                           Posted April 21, 2011.   \n",
      "3                                            Posted June 24, 2014.   \n",
      "4                                        Posted September 8, 2013.   \n",
      "...                                 ...                        ...   \n",
      "59300                                              Posted July 10.   \n",
      "59301                                               Posted July 8.   \n",
      "59302  1 person found this review funny             Posted July 3.   \n",
      "59303                                              Posted July 20.   \n",
      "59304                                               Posted July 2.   \n",
      "\n",
      "      last_edited item_id                                          helpful  \\\n",
      "0                    1250                                   No ratings yet   \n",
      "1                   22200                                   No ratings yet   \n",
      "2                   43110                                   No ratings yet   \n",
      "3                  251610  15 of 20 people (75%) found this review helpful   \n",
      "4                  227300     0 of 1 people (0%) found this review helpful   \n",
      "...           ...     ...                                              ...   \n",
      "59300                  70                                   No ratings yet   \n",
      "59301              362890                                   No ratings yet   \n",
      "59302              273110    1 of 2 people (50%) found this review helpful   \n",
      "59303                 730                                   No ratings yet   \n",
      "59304                 440                                   No ratings yet   \n",
      "\n",
      "       recommend  review  \n",
      "0           True       2  \n",
      "1           True       2  \n",
      "2           True       2  \n",
      "3           True       2  \n",
      "4           True       1  \n",
      "...          ...     ...  \n",
      "59300       True       2  \n",
      "59301       True       2  \n",
      "59302       True       2  \n",
      "59303       True       2  \n",
      "59304       True       2  \n",
      "\n",
      "[59305 rows x 7 columns]\n"
     ]
    }
   ],
   "source": [
    "from textblob import TextBlob\n",
    "\n",
    "def get_sentiment_with_recommend(recommend, review):\n",
    "    if isinstance(review, str):  # Verifica si el tipo de review es string\n",
    "        if recommend:  # Verifica si la recomendación es verdadera\n",
    "            analysis = TextBlob(str(review))  # Convierte a cadena y analiza el texto de la reseña\n",
    "            polarity = analysis.sentiment.polarity\n",
    "            if polarity > 0:\n",
    "                return 2  # Positivo si polaridad > 0\n",
    "            else:\n",
    "                return 1  # Neutral si polaridad <= 0 y recommend true\n",
    "        else:\n",
    "            return 0  # No recomendado, se asume neutral o negativo\n",
    "    else:\n",
    "        return 1  # No hay reseña, se asume neutral\n",
    "# Convertir la columna 'review' a cadena (str)\n",
    "df_reviews_columns['review'] = df_reviews_columns['review'].astype(str)\n",
    "\n",
    "# Aplica la función a cada review\n",
    "df_reviews_columns['sentiment_analysis'] = df_reviews_columns.apply(lambda x: get_sentiment_with_recommend(x['recommend'], x['review']), axis=1)\n",
    "\n",
    "# Reemplaza la columna 'review' con la nueva columna 'sentiment_analysis'\n",
    "df_reviews_columns.drop('review', axis=1, inplace=True)\n",
    "df_reviews_columns.rename(columns={'sentiment_analysis': 'review'}, inplace=True)\n",
    "\n",
    "print(df_reviews_columns)\n"
   ]
  },
  {
   "cell_type": "code",
   "execution_count": 94,
   "metadata": {},
   "outputs": [],
   "source": [
    "df_reviews_columns.to_csv('reviews_sentiment_analysis.csv', index=False)"
   ]
  },
  {
   "cell_type": "code",
   "execution_count": 111,
   "metadata": {},
   "outputs": [
    {
     "name": "stdout",
     "output_type": "stream",
     "text": [
      "                                  funny last_edited  item_id  \\\n",
      "0                                   NaN         NaN     1250   \n",
      "1                                   NaN         NaN    22200   \n",
      "2                                   NaN         NaN    43110   \n",
      "3                                   NaN         NaN   251610   \n",
      "4                                   NaN         NaN   227300   \n",
      "...                                 ...         ...      ...   \n",
      "59300                               NaN         NaN       70   \n",
      "59301                               NaN         NaN   362890   \n",
      "59302  1 person found this review funny         NaN   273110   \n",
      "59303                               NaN         NaN      730   \n",
      "59304                               NaN         NaN      440   \n",
      "\n",
      "                                               helpful  recommend  review  \\\n",
      "0                                       No ratings yet       True       2   \n",
      "1                                       No ratings yet       True       2   \n",
      "2                                       No ratings yet       True       2   \n",
      "3      15 of 20 people (75%) found this review helpful       True       2   \n",
      "4         0 of 1 people (0%) found this review helpful       True       1   \n",
      "...                                                ...        ...     ...   \n",
      "59300                                   No ratings yet       True       2   \n",
      "59301                                   No ratings yet       True       2   \n",
      "59302    1 of 2 people (50%) found this review helpful       True       2   \n",
      "59303                                   No ratings yet       True       2   \n",
      "59304                                   No ratings yet       True       2   \n",
      "\n",
      "           posted  \n",
      "0      2011-11-05  \n",
      "1      2011-07-15  \n",
      "2      2011-04-21  \n",
      "3      2014-06-24  \n",
      "4      2013-09-08  \n",
      "...           ...  \n",
      "59300  2016-07-10  \n",
      "59301  2016-07-08  \n",
      "59302  2016-07-03  \n",
      "59303  2016-07-20  \n",
      "59304  2016-07-02  \n",
      "\n",
      "[59305 rows x 7 columns]\n"
     ]
    }
   ],
   "source": [
    "import pandas as pd\n",
    "\n",
    "# Carga el dataset desde 'reviews_sentiment_analysis.csv'\n",
    "df_reviews_columns = pd.read_csv('reviews_sentiment_analysis.csv')\n",
    "\n",
    "# Define una función para extraer y convertir la fecha\n",
    "def extract_date(posted_str):\n",
    "    # Elimina la palabra 'Posted' y espacios en blanco al principio y al final\n",
    "    date_str = posted_str.replace('Posted', '').replace('.', '').strip()\n",
    "    try:\n",
    "        # Intenta convertir la cadena de fecha en un objeto de fecha utilizando datetime.strptime\n",
    "        date_obj = datetime.strptime(date_str, '%B %d, %Y').date()\n",
    "    except ValueError:\n",
    "        try:\n",
    "            # Intenta nuevamente con el formato '%B %d' si la conversión falla\n",
    "            date_obj = datetime.strptime(date_str, '%B %d').date()\n",
    "        except ValueError:\n",
    "            # Si no se puede convertir a ninguna de las dos formas, devuelve None\n",
    "            date_obj = None\n",
    "\n",
    "    # Si la fecha es válida pero tiene el año 1900, establece el año en None\n",
    "    if date_obj and date_obj.year == 1900:\n",
    "        date_obj = date_obj.replace(year=2016)\n",
    "    \n",
    "    return date_obj\n",
    "\n",
    "# Aplica la función a la columna 'posted' para obtener la fecha\n",
    "df_reviews_columns['date_posted'] = df_reviews_columns['posted'].apply(extract_date)\n",
    "\n",
    "# Reemplaza la columna 'posted' con la nueva columna 'date_posted'\n",
    "df_reviews_columns.drop('posted', axis=1, inplace=True)\n",
    "df_reviews_columns.rename(columns={'date_posted': 'posted'}, inplace=True)\n",
    "\n",
    "print(df_reviews_columns)\n",
    "\n"
   ]
  },
  {
   "cell_type": "code",
   "execution_count": 112,
   "metadata": {},
   "outputs": [
    {
     "data": {
      "text/plain": [
       "0        2011-11-05\n",
       "1        2011-07-15\n",
       "2        2011-04-21\n",
       "3        2014-06-24\n",
       "4        2013-09-08\n",
       "            ...    \n",
       "59300    2016-07-10\n",
       "59301    2016-07-08\n",
       "59302    2016-07-03\n",
       "59303    2016-07-20\n",
       "59304    2016-07-02\n",
       "Name: posted, Length: 59305, dtype: object"
      ]
     },
     "execution_count": 112,
     "metadata": {},
     "output_type": "execute_result"
    }
   ],
   "source": [
    "df_reviews_columns['posted']"
   ]
  },
  {
   "cell_type": "code",
   "execution_count": 116,
   "metadata": {},
   "outputs": [
    {
     "name": "stdout",
     "output_type": "stream",
     "text": [
      "                                  funny last_edited  item_id  \\\n",
      "0                                  None        None     1250   \n",
      "1                                  None        None    22200   \n",
      "2                                  None        None    43110   \n",
      "3                                  None        None   251610   \n",
      "4                                  None        None   227300   \n",
      "...                                 ...         ...      ...   \n",
      "59300                              None        None       70   \n",
      "59301                              None        None   362890   \n",
      "59302  1 person found this review funny        None   273110   \n",
      "59303                              None        None      730   \n",
      "59304                              None        None      440   \n",
      "\n",
      "                                               helpful  recommend  review  \\\n",
      "0                                       No ratings yet       True       2   \n",
      "1                                       No ratings yet       True       2   \n",
      "2                                       No ratings yet       True       2   \n",
      "3      15 of 20 people (75%) found this review helpful       True       2   \n",
      "4         0 of 1 people (0%) found this review helpful       True       1   \n",
      "...                                                ...        ...     ...   \n",
      "59300                                   No ratings yet       True       2   \n",
      "59301                                   No ratings yet       True       2   \n",
      "59302    1 of 2 people (50%) found this review helpful       True       2   \n",
      "59303                                   No ratings yet       True       2   \n",
      "59304                                   No ratings yet       True       2   \n",
      "\n",
      "           posted  \n",
      "0      2011-11-05  \n",
      "1      2011-07-15  \n",
      "2      2011-04-21  \n",
      "3      2014-06-24  \n",
      "4      2013-09-08  \n",
      "...           ...  \n",
      "59300  2016-07-10  \n",
      "59301  2016-07-08  \n",
      "59302  2016-07-03  \n",
      "59303  2016-07-20  \n",
      "59304  2016-07-02  \n",
      "\n",
      "[59305 rows x 7 columns]\n"
     ]
    }
   ],
   "source": [
    "# Reemplaza los valores NaN por None en el DataFrame\n",
    "df_reviews_columns = df_reviews_columns.where(df_reviews_columns.notna(), None)\n",
    "\n",
    "# Muestra el DataFrame actualizado\n",
    "print(df_reviews_columns)\n",
    "\n"
   ]
  },
  {
   "cell_type": "code",
   "execution_count": 117,
   "metadata": {},
   "outputs": [],
   "source": [
    "df_reviews_columns.to_csv('reviews_sentiment_analysis.csv', index=False)"
   ]
  }
 ],
 "metadata": {
  "kernelspec": {
   "display_name": "Python 3",
   "language": "python",
   "name": "python3"
  },
  "language_info": {
   "codemirror_mode": {
    "name": "ipython",
    "version": 3
   },
   "file_extension": ".py",
   "mimetype": "text/x-python",
   "name": "python",
   "nbconvert_exporter": "python",
   "pygments_lexer": "ipython3",
   "version": "3.10.11"
  }
 },
 "nbformat": 4,
 "nbformat_minor": 2
}
