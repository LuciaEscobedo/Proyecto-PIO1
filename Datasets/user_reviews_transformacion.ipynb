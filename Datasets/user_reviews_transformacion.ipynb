{
 "cells": [
  {
   "cell_type": "code",
   "execution_count": 2,
   "metadata": {},
   "outputs": [],
   "source": [
    "import json\n",
    "import pandas as pd\n",
    "import re\n",
    "from textblob import TextBlob\n",
    "from ast import literal_eval\n",
    "from datetime import datetime"
   ]
  },
  {
   "cell_type": "code",
   "execution_count": 3,
   "metadata": {},
   "outputs": [],
   "source": [
    "# funcion para corregir y cargar cada linea del archivo 'australian_user_reviews.json' original\n",
    "def cargar_y_corregir_linea(linea):\n",
    "    # reemplaza las comillas simples con dobles y corrige valores booleanos\n",
    "    linea_corregida = linea.replace(\"'\", '\"').replace('True', 'true').replace('False', 'false')\n",
    "    return json.loads(linea_corregida)\n",
    "\n",
    "# lista para almacenar los datos desanidados\n",
    "data_list = []\n",
    "\n",
    "# exprecion regular para extraer números de la columna 'funny'\n",
    "numero_regex = re.compile(r'\\d+')\n",
    "\n",
    "# lee el archivo 'australian_user_reviews.json' original, corrige y procesa cada línea\n",
    "with open('australian_user_reviews.json', 'r', encoding='utf-8') as archivo_json:\n",
    "    for linea in archivo_json:\n",
    "        try:\n",
    "            entrada = cargar_y_corregir_linea(linea)\n",
    "            user_id = entrada['user_id']\n",
    "            user_url = entrada['user_url']\n",
    "            # iteracion sobre cada reseña\n",
    "            for reseña in entrada['reviews']:\n",
    "                # estrae el numero de la columna 'funny'\n",
    "                funny_valor = re.search(numero_regex, reseña.get('funny', ''))\n",
    "                if funny_valor:\n",
    "                    funny = int(funny_valor.group())\n",
    "                else:\n",
    "                    funny = None\n",
    "                \n",
    "                # elimina 'Posted' de la columna 'posted'\n",
    "                posted = reseña.get('posted', '').replace('Posted ', '', 1)\n",
    "\n",
    "                reseña_dict = {\n",
    "                    'user_id': user_id,\n",
    "                    'user_url': user_url,\n",
    "                    'funny': funny,\n",
    "                    'posted': posted,\n",
    "                    'item_id': int(reseña.get('item_id', '')),  # convierte a entero\n",
    "                    'helpful': reseña.get('helpful', ''),\n",
    "                    'recommend': reseña.get('recommend', ''),\n",
    "                    'review': reseña.get('review', '')  # mantiene el texto original de la review\n",
    "                }\n",
    "                data_list.append(reseña_dict)\n",
    "        except json.JSONDecodeError as e:\n",
    "            None\n",
    "\n",
    "# crea el DataFrame\n",
    "df = pd.DataFrame(data_list)"
   ]
  },
  {
   "cell_type": "code",
   "execution_count": 2,
   "metadata": {},
   "outputs": [],
   "source": [
    "# guarda el DataFrame modificado en un nuevo archivo CSV\n",
    "df.to_csv('user_reviews.csv', index=False)\n",
    "\n",
    "# guarda el DataFrame modificado en un nuevo archivo Parquet\n",
    "df.to_parquet('user_reviews.parquet', index=False)"
   ]
  },
  {
   "cell_type": "code",
   "execution_count": 3,
   "metadata": {},
   "outputs": [
    {
     "data": {
      "text/plain": [
       "Index(['user_id', 'user_url', 'funny', 'posted', 'item_id', 'helpful',\n",
       "       'recommend', 'review'],\n",
       "      dtype='object')"
      ]
     },
     "execution_count": 3,
     "metadata": {},
     "output_type": "execute_result"
    }
   ],
   "source": [
    "df.columns"
   ]
  },
  {
   "cell_type": "code",
   "execution_count": 6,
   "metadata": {},
   "outputs": [
    {
     "name": "stdout",
     "output_type": "stream",
     "text": [
      "                 user_id                                           user_url  \\\n",
      "0      76561198079601835  http://steamcommunity.com/profiles/76561198079...   \n",
      "1            MeaTCompany           http://steamcommunity.com/id/MeaTCompany   \n",
      "2      76561198089393905  http://steamcommunity.com/profiles/76561198089...   \n",
      "3      76561198089393905  http://steamcommunity.com/profiles/76561198089...   \n",
      "4      76561198156664158  http://steamcommunity.com/profiles/76561198156...   \n",
      "...                  ...                                                ...   \n",
      "29633  76561198312638244  http://steamcommunity.com/profiles/76561198312...   \n",
      "29634  76561198312638244  http://steamcommunity.com/profiles/76561198312...   \n",
      "29635        LydiaMorley           http://steamcommunity.com/id/LydiaMorley   \n",
      "29636        LydiaMorley           http://steamcommunity.com/id/LydiaMorley   \n",
      "29637        LydiaMorley           http://steamcommunity.com/id/LydiaMorley   \n",
      "\n",
      "       funny             posted  item_id  \\\n",
      "0        1.0            May 20.      730   \n",
      "1        NaN           July 24.      730   \n",
      "2        5.0  February 1, 2015.    72850   \n",
      "3        1.0     June 20, 2014.      440   \n",
      "4        NaN           June 16.   252950   \n",
      "...      ...                ...      ...   \n",
      "29633    NaN           July 10.       70   \n",
      "29634    NaN            July 8.   362890   \n",
      "29635    1.0            July 3.   273110   \n",
      "29636    NaN           July 20.      730   \n",
      "29637    NaN            July 2.      440   \n",
      "\n",
      "                                              helpful  recommend  review  \n",
      "0        0 of 1 people (0%) found this review helpful       True       1  \n",
      "1                                      No ratings yet       True       1  \n",
      "2      3 of 3 people (100%) found this review helpful       True       1  \n",
      "3      3 of 3 people (100%) found this review helpful       True       1  \n",
      "4        0 of 1 people (0%) found this review helpful       True       2  \n",
      "...                                               ...        ...     ...  \n",
      "29633                                  No ratings yet       True       2  \n",
      "29634                                  No ratings yet       True       2  \n",
      "29635   1 of 2 people (50%) found this review helpful       True       2  \n",
      "29636                                  No ratings yet       True       2  \n",
      "29637                                  No ratings yet       True       2  \n",
      "\n",
      "[29638 rows x 8 columns]\n"
     ]
    }
   ],
   "source": [
    "def get_sentiment_with_recommend(recommend, review):\n",
    "    if isinstance(review, str):  # Verifica si el tipo de review es string\n",
    "        if recommend:  # Verifica si la recomendación es verdadera\n",
    "            analysis = TextBlob(str(review))  # Convierte a cadena y analiza el texto de la reseña\n",
    "            polarity = analysis.sentiment.polarity\n",
    "            if polarity > 0:\n",
    "                return 2  # Positivo si polaridad > 0\n",
    "            else:\n",
    "                return 1  # Neutral si polaridad <= 0 y recommend true\n",
    "        else:\n",
    "            return 0  # No recomendado, se asume neutral o negativo\n",
    "    else:\n",
    "        return 1  # No hay reseña, se asume neutral\n",
    "# Convertir la columna 'review' a cadena (str)\n",
    "df['review'] = df['review'].astype(str)\n",
    "\n",
    "# Aplica la función a cada review\n",
    "df['sentiment_analysis'] = df.apply(lambda x: get_sentiment_with_recommend(x['recommend'], x['review']), axis=1)\n",
    "\n",
    "# Reemplaza la columna 'review' con la nueva columna 'sentiment_analysis'\n",
    "df.drop('review', axis=1, inplace=True)\n",
    "df.rename(columns={'sentiment_analysis': 'review'}, inplace=True)\n",
    "\n",
    "print(df)"
   ]
  },
  {
   "cell_type": "code",
   "execution_count": 4,
   "metadata": {},
   "outputs": [],
   "source": [
    "# Reemplaza los valores NaN por None en el DataFrame\n",
    "df = df.where(df.notna(), None)"
   ]
  },
  {
   "cell_type": "code",
   "execution_count": 17,
   "metadata": {},
   "outputs": [
    {
     "name": "stdout",
     "output_type": "stream",
     "text": [
      "2011-11-05\n"
     ]
    }
   ],
   "source": [
    "from datetime import datetime\n",
    "\n",
    "# Definimos una función para extraer y convertir la fecha\n",
    "def extract_date(posted_str):\n",
    "    # Elimina la palabra 'Posted' y espacios en blanco al principio y al final\n",
    "    date_str = posted_str.replace('Posted', '').replace('.', '').strip()\n",
    "    try:\n",
    "        # Intenta convertir la cadena de fecha en un objeto de fecha utilizando datetime.strptime\n",
    "        date_obj = datetime.strptime(date_str, '%B %d, %Y').date()\n",
    "    except ValueError:\n",
    "        try:\n",
    "            # Intenta nuevamente con el formato '%B %d' si la conversión falla\n",
    "            date_obj = datetime.strptime(date_str, '%B %d').date()\n",
    "        except ValueError:\n",
    "            # Si no se puede convertir a ninguna de las dos formas, devuelve None\n",
    "            date_obj = None\n",
    "    except TypeError:\n",
    "        # Si ocurre un error de tipo al intentar convertir la fecha, devuelve None\n",
    "        date_obj = None\n",
    "\n",
    "    return date_obj\n",
    "\n",
    "# Ejemplo de uso\n",
    "date_str = 'Posted November 5, 2011.'\n",
    "date_obj = extract_date(date_str)\n",
    "print(date_obj)\n",
    "\n"
   ]
  },
  {
   "cell_type": "code",
   "execution_count": 18,
   "metadata": {},
   "outputs": [],
   "source": [
    "df.to_csv('reviews_sentiment_analysis.csv', index=False)"
   ]
  },
  {
   "cell_type": "code",
   "execution_count": 19,
   "metadata": {},
   "outputs": [
    {
     "data": {
      "text/plain": [
       "Index(['user_id', 'user_url', 'funny', 'item_id', 'helpful', 'recommend',\n",
       "       'review', 'posted'],\n",
       "      dtype='object')"
      ]
     },
     "execution_count": 19,
     "metadata": {},
     "output_type": "execute_result"
    }
   ],
   "source": [
    "df.columns"
   ]
  },
  {
   "cell_type": "code",
   "execution_count": 5,
   "metadata": {},
   "outputs": [
    {
     "data": {
      "text/html": [
       "<div>\n",
       "<style scoped>\n",
       "    .dataframe tbody tr th:only-of-type {\n",
       "        vertical-align: middle;\n",
       "    }\n",
       "\n",
       "    .dataframe tbody tr th {\n",
       "        vertical-align: top;\n",
       "    }\n",
       "\n",
       "    .dataframe thead th {\n",
       "        text-align: right;\n",
       "    }\n",
       "</style>\n",
       "<table border=\"1\" class=\"dataframe\">\n",
       "  <thead>\n",
       "    <tr style=\"text-align: right;\">\n",
       "      <th></th>\n",
       "      <th>user_id</th>\n",
       "      <th>recommend</th>\n",
       "    </tr>\n",
       "  </thead>\n",
       "  <tbody>\n",
       "    <tr>\n",
       "      <th>0</th>\n",
       "      <td>76561198079601835</td>\n",
       "      <td>True</td>\n",
       "    </tr>\n",
       "    <tr>\n",
       "      <th>1</th>\n",
       "      <td>MeaTCompany</td>\n",
       "      <td>True</td>\n",
       "    </tr>\n",
       "    <tr>\n",
       "      <th>2</th>\n",
       "      <td>76561198089393905</td>\n",
       "      <td>True</td>\n",
       "    </tr>\n",
       "    <tr>\n",
       "      <th>3</th>\n",
       "      <td>76561198089393905</td>\n",
       "      <td>True</td>\n",
       "    </tr>\n",
       "    <tr>\n",
       "      <th>4</th>\n",
       "      <td>76561198156664158</td>\n",
       "      <td>True</td>\n",
       "    </tr>\n",
       "    <tr>\n",
       "      <th>...</th>\n",
       "      <td>...</td>\n",
       "      <td>...</td>\n",
       "    </tr>\n",
       "    <tr>\n",
       "      <th>29633</th>\n",
       "      <td>76561198312638244</td>\n",
       "      <td>True</td>\n",
       "    </tr>\n",
       "    <tr>\n",
       "      <th>29634</th>\n",
       "      <td>76561198312638244</td>\n",
       "      <td>True</td>\n",
       "    </tr>\n",
       "    <tr>\n",
       "      <th>29635</th>\n",
       "      <td>LydiaMorley</td>\n",
       "      <td>True</td>\n",
       "    </tr>\n",
       "    <tr>\n",
       "      <th>29636</th>\n",
       "      <td>LydiaMorley</td>\n",
       "      <td>True</td>\n",
       "    </tr>\n",
       "    <tr>\n",
       "      <th>29637</th>\n",
       "      <td>LydiaMorley</td>\n",
       "      <td>True</td>\n",
       "    </tr>\n",
       "  </tbody>\n",
       "</table>\n",
       "<p>29638 rows × 2 columns</p>\n",
       "</div>"
      ],
      "text/plain": [
       "                 user_id  recommend\n",
       "0      76561198079601835       True\n",
       "1            MeaTCompany       True\n",
       "2      76561198089393905       True\n",
       "3      76561198089393905       True\n",
       "4      76561198156664158       True\n",
       "...                  ...        ...\n",
       "29633  76561198312638244       True\n",
       "29634  76561198312638244       True\n",
       "29635        LydiaMorley       True\n",
       "29636        LydiaMorley       True\n",
       "29637        LydiaMorley       True\n",
       "\n",
       "[29638 rows x 2 columns]"
      ]
     },
     "execution_count": 5,
     "metadata": {},
     "output_type": "execute_result"
    }
   ],
   "source": [
    "df_user_recomendacion = df[['user_id', 'recommend']]\n",
    "\n",
    "# Eliminar filas con muchos datos faltantes\n",
    "df_user_recomendacion = df_user_recomendacion.dropna(thresh=1)\n",
    "\n",
    "df_user_recomendacion"
   ]
  },
  {
   "cell_type": "code",
   "execution_count": 6,
   "metadata": {},
   "outputs": [],
   "source": [
    "df_user_recomendacion.to_csv('user-recomendacion.csv', index=False)"
   ]
  },
  {
   "cell_type": "code",
   "execution_count": 30,
   "metadata": {},
   "outputs": [
    {
     "name": "stdout",
     "output_type": "stream",
     "text": [
      "             user_id  item_id         price  recommend\n",
      "0  76561198077992470   105600          9.99       True\n",
      "1  76561198077992470   230410  Free to Play       True\n",
      "2  76561198077992470   301520  Free to Play       True\n",
      "3  76561198077992470   304930  Free to Play       True\n",
      "4  76561198077992470      730         14.99       True\n"
     ]
    }
   ],
   "source": [
    "# Cargar las tablas pequeñas\n",
    "df_id_gamer_price = pd.read_csv('id-gamer-price.csv')\n",
    "#df_user_recomendaciones = pd.read_csv('user-recomendaciones.csv')\n",
    "df_user_items = pd.read_csv('user-items.csv')\n",
    "\n",
    "# Combinar las tablas df_user_items y df_id_gamer_price en base a 'item_id'\n",
    "df_combined = pd.merge(df_user_items, df_id_gamer_price, on='item_id')\n",
    "\n",
    "# Combinar la tabla combinada anterior con df_user_recomendaciones en base a 'user_id'\n",
    "df_combined = pd.merge(df_combined, df_user_recomendacion, on='user_id')\n",
    "\n",
    "# Verificar la tabla combinada resultante\n",
    "print(df_combined.head())\n"
   ]
  },
  {
   "cell_type": "code",
   "execution_count": 31,
   "metadata": {},
   "outputs": [
    {
     "name": "stdout",
     "output_type": "stream",
     "text": [
      "             user_id  item_id  price  recommend\n",
      "0  76561198077992470   105600   9.99       True\n",
      "1  76561198077992470   230410   0.00       True\n",
      "2  76561198077992470   301520   0.00       True\n",
      "3  76561198077992470   304930   0.00       True\n",
      "4  76561198077992470      730  14.99       True\n"
     ]
    }
   ],
   "source": [
    "import pandas as pd\n",
    "\n",
    "# Reemplazar 'free' por 0 en la columna 'price'\n",
    "df_combined['price'] = df_combined['price'].replace(to_replace='.*free.*', value='0', regex=True)\n",
    "\n",
    "# Convertir la columna 'price' a tipo float, manejar excepciones para valores no numéricos\n",
    "def try_convert_to_float(value):\n",
    "    try:\n",
    "        return float(value)\n",
    "    except ValueError:\n",
    "        return 0.0  # Asignar 0 para valores no numéricos\n",
    "\n",
    "df_combined['price'] = df_combined['price'].apply(try_convert_to_float)\n",
    "\n",
    "# Verificar los cambios\n",
    "print(df_combined.head())\n",
    "\n",
    "\n"
   ]
  },
  {
   "cell_type": "code",
   "execution_count": 33,
   "metadata": {},
   "outputs": [],
   "source": [
    "df_combined['recommend'] = df_combined['recommend'].replace({'True': True, 'False': False})"
   ]
  },
  {
   "cell_type": "code",
   "execution_count": 34,
   "metadata": {},
   "outputs": [],
   "source": [
    "df_combined.to_csv('user-data-price.csv', index=False)"
   ]
  },
  {
   "cell_type": "code",
   "execution_count": null,
   "metadata": {},
   "outputs": [],
   "source": []
  }
 ],
 "metadata": {
  "kernelspec": {
   "display_name": "Python 3",
   "language": "python",
   "name": "python3"
  },
  "language_info": {
   "codemirror_mode": {
    "name": "ipython",
    "version": 3
   },
   "file_extension": ".py",
   "mimetype": "text/x-python",
   "name": "python",
   "nbconvert_exporter": "python",
   "pygments_lexer": "ipython3",
   "version": "3.10.11"
  }
 },
 "nbformat": 4,
 "nbformat_minor": 2
}
