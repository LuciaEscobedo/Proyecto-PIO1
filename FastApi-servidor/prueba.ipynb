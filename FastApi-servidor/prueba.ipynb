{
 "cells": [
  {
   "cell_type": "code",
   "execution_count": 8,
   "metadata": {},
   "outputs": [],
   "source": [
    "from funciones import developer\n",
    "import pandas as pd"
   ]
  },
  {
   "cell_type": "code",
   "execution_count": 2,
   "metadata": {},
   "outputs": [
    {
     "name": "stdout",
     "output_type": "stream",
     "text": [
      "[{'Año': 2016, 'Cantidad de Items': 1, 'Porcentaje de Contenido Free': '0.00%'}]\n"
     ]
    }
   ],
   "source": [
    "# Llamada a la función developer\n",
    "resultado = developer(\"Counter_Agents_Team\")\n",
    "\n",
    "# Imprimir el resultado\n",
    "print(resultado)\n"
   ]
  },
  {
   "cell_type": "code",
   "execution_count": 3,
   "metadata": {},
   "outputs": [
    {
     "name": "stdout",
     "output_type": "stream",
     "text": [
      "[{'Año': 2016, 'Cantidad de Items': 1, 'Porcentaje de Contenido Free': '0.00%'}]\n"
     ]
    }
   ],
   "source": [
    "# Cargar el Dataset\n",
    "df_desarrolladores = pd.read_csv(r'C:\\Users\\Usuario\\Documents\\GitHub\\Proyecto-PIO1\\Datasets\\desarrolladores.csv')\n",
    "\n",
    "def developer(desarrollador: str):\n",
    "    # Filtrar los datos para el desarrollador dado\n",
    "    desarrollador_data = df_desarrolladores[df_desarrolladores['publisher'] == desarrollador]\n",
    "\n",
    "    if not desarrollador_data.empty:\n",
    "        # Inicializar el diccionario para contener la información\n",
    "        items_x_anio = {}\n",
    "\n",
    "        # Recorrer las filas de datos del desarrollador\n",
    "        for _, row in desarrollador_data.iterrows():\n",
    "            year = int(row['release_date'][:4])  # Obtener el año de la fecha de lanzamiento\n",
    "            items_x_anio.setdefault(year, {\"Cantidad_items\": 0, \"Cantidad_contenido_free\": 0})\n",
    "            items_x_anio[year][\"Cantidad_items\"] += 1\n",
    "\n",
    "            # Verificar si el precio es 'free'\n",
    "            if row[\"price\"] == 'free':\n",
    "                items_x_anio[year][\"Cantidad_contenido_free\"] += 1\n",
    "\n",
    "        # Generar la respuesta para cada año\n",
    "        respuesta = []\n",
    "        for year, data in items_x_anio.items():\n",
    "            Cantidad_items = data[\"Cantidad_items\"]\n",
    "            Cantidad_contenido_free = data[\"Cantidad_contenido_free\"]\n",
    "            total_items = Cantidad_items + Cantidad_contenido_free\n",
    "            Contenido_free_porcentaje = f\"{(Cantidad_contenido_free / total_items) * 100:.2f}%\"\n",
    "            respuesta.append(\n",
    "                {\n",
    "                    \"Año\": year,\n",
    "                    \"Cantidad de Items\": Cantidad_items,\n",
    "                    \"Porcentaje de Contenido Free\": Contenido_free_porcentaje,\n",
    "                }\n",
    "            )\n",
    "        return respuesta \n",
    "    else:\n",
    "        return {\"error\": \"Desarrollador no encontrado\"}\n",
    "\n",
    "# Ejemplo de uso\n",
    "resultado = developer(\"Counter_Agents_Team\")\n",
    "print(resultado)\n"
   ]
  },
  {
   "cell_type": "code",
   "execution_count": 7,
   "metadata": {},
   "outputs": [
    {
     "name": "stdout",
     "output_type": "stream",
     "text": [
      "[{'Año': 2007, 'Cantidad de Items': 2, 'Porcentaje de Contenido Free': '0.00%'}, {'Año': 2006, 'Cantidad de Items': 2, 'Porcentaje de Contenido Free': '0.00%'}, {'Año': 2008, 'Cantidad de Items': 3, 'Porcentaje de Contenido Free': '0.00%'}, {'Año': 2011, 'Cantidad de Items': 1, 'Porcentaje de Contenido Free': '0.00%'}, {'Año': 2016, 'Cantidad de Items': 72, 'Porcentaje de Contenido Free': '0.00%'}, {'Año': 2017, 'Cantidad de Items': 113, 'Porcentaje de Contenido Free': '0.00%'}, {'Año': 2005, 'Cantidad de Items': 1, 'Porcentaje de Contenido Free': '0.00%'}, {'Año': 2009, 'Cantidad de Items': 1, 'Porcentaje de Contenido Free': '0.00%'}]\n"
     ]
    }
   ],
   "source": [
    "import pandas as pd\n",
    "\n",
    "# Cargar el Dataset\n",
    "df_desarrolladores = pd.read_csv(r'C:\\Users\\Usuario\\Documents\\GitHub\\Proyecto-PIO1\\Datasets\\desarrolladores.csv')\n",
    "\n",
    "def developer(desarrollador: str):\n",
    "    # Filtrar los datos para el desarrollador dado\n",
    "    desarrollador_data = df_desarrolladores[df_desarrolladores['publisher'] == desarrollador]\n",
    "\n",
    "    if not desarrollador_data.empty:\n",
    "        # Filtrar los juegos gratuitos\n",
    "        juegos_gratuitos = desarrollador_data[desarrollador_data['price'] == 'Free']\n",
    "\n",
    "        # Inicializar el diccionario para contener la información\n",
    "        items_x_anio = {}\n",
    "\n",
    "        # Recorrer las filas de datos del desarrollador\n",
    "        for _, row in desarrollador_data.iterrows():\n",
    "            year = int(row['release_date'][:4])  # Obtener el año de la fecha de lanzamiento\n",
    "            items_x_anio.setdefault(year, {\"Cantidad_items\": 0, \"Cantidad_contenido_free\": 0})\n",
    "            items_x_anio[year][\"Cantidad_items\"] += 1\n",
    "\n",
    "        # Actualizar la cantidad de contenido gratuito por año\n",
    "        for _, row in juegos_gratuitos.iterrows():\n",
    "            year = int(row['release_date'][:4])  # Obtener el año de la fecha de lanzamiento\n",
    "            items_x_anio[year][\"Cantidad_contenido_free\"] += 1\n",
    "\n",
    "        # Generar la respuesta para cada año\n",
    "        respuesta = []\n",
    "        for year, data in items_x_anio.items():\n",
    "            Cantidad_items = data[\"Cantidad_items\"]\n",
    "            Cantidad_contenido_free = data[\"Cantidad_contenido_free\"]\n",
    "            total_items = Cantidad_items + Cantidad_contenido_free\n",
    "            Contenido_free_porcentaje = f\"{(Cantidad_contenido_free / total_items) * 100:.2f}%\"\n",
    "            respuesta.append(\n",
    "                {\n",
    "                    \"Año\": year,\n",
    "                    \"Cantidad de Items\": Cantidad_items,\n",
    "                    \"Porcentaje de Contenido Free\": Contenido_free_porcentaje,\n",
    "                }\n",
    "            )\n",
    "        return respuesta \n",
    "    else:\n",
    "        return {\"error\": \"Desarrollador no encontrado\"}\n",
    "\n",
    "# Ejemplo de uso\n",
    "resultado = developer(\"Big Fish Games\")\n",
    "print(resultado)\n"
   ]
  },
  {
   "cell_type": "code",
   "execution_count": 31,
   "metadata": {},
   "outputs": [
    {
     "name": "stdout",
     "output_type": "stream",
     "text": [
      "{'Usuario': '76561198120646995', 'Dinero gastado': '$920.52', '% de recomendación positiva': '66.67%', 'Cantidad de items': 177}\n"
     ]
    }
   ],
   "source": [
    "# Cargar el Dataset y convertir 'recommend' a booleano\n",
    "df_combined = pd.read_csv(r'C:\\Users\\Usuario\\Documents\\GitHub\\Proyecto-PIO1\\Datasets\\user-data-price.csv')\n",
    "\n",
    "\n",
    "# Función userdata\n",
    "def userdata(User_id: str):\n",
    "    # Filtrar el DataFrame combinado por el User_id dado\n",
    "    user_data = df_combined[df_combined['user_id'] == User_id].copy()  # Copiamos el DataFrame para evitar SettingWithCopyWarning\n",
    "    \n",
    "    if user_data.empty:\n",
    "        return {\"error\": \"Usuario no encontrado\"}\n",
    "    \n",
    "    # Filtrar los precios que sean de tipo float\n",
    "    user_data_float_prices = user_data[user_data['price'].apply(lambda x: isinstance(x, float))]\n",
    "    \n",
    "    # Calcular la cantidad de dinero gastado por el usuario\n",
    "    total_money_spent = user_data_float_prices['price'].sum()\n",
    "    \n",
    "    # Calcular el porcentaje de recomendación positiva\n",
    "    num_positive_recommendations = user_data[user_data['recommend']].shape[0]  # Usamos directamente valores booleanos\n",
    "    \n",
    "    if len(user_data) > 0:\n",
    "        recommend_percentage = (num_positive_recommendations / len(user_data)) * 100\n",
    "    else:\n",
    "        recommend_percentage = 0\n",
    "    \n",
    "    # Calcular la cantidad de items del usuario\n",
    "    total_items = len(user_data)\n",
    "    \n",
    "    return {\n",
    "        \"Usuario\": User_id,\n",
    "        \"Dinero gastado\": f\"${total_money_spent:.2f}\",\n",
    "        \"% de recomendación positiva\": f\"{recommend_percentage:.2f}%\",\n",
    "        \"Cantidad de items\": total_items\n",
    "    }\n",
    "\n",
    "# Ejemplo de uso\n",
    "print(userdata('76561198120646995'))\n"
   ]
  }
 ],
 "metadata": {
  "kernelspec": {
   "display_name": "Python 3",
   "language": "python",
   "name": "python3"
  },
  "language_info": {
   "codemirror_mode": {
    "name": "ipython",
    "version": 3
   },
   "file_extension": ".py",
   "mimetype": "text/x-python",
   "name": "python",
   "nbconvert_exporter": "python",
   "pygments_lexer": "ipython3",
   "version": "3.10.11"
  }
 },
 "nbformat": 4,
 "nbformat_minor": 2
}
